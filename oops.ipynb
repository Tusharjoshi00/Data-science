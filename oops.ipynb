{
 "cells": [
  {
   "cell_type": "code",
   "execution_count": 1,
   "id": "830bdba4",
   "metadata": {},
   "outputs": [],
   "source": [
    "##class , object , method\n",
    "## 4 types of oops\n",
    "# inheritance ---single , ,ultiple , multilevel, hyerarchial, hybrid\n",
    "# , polymorphism , encapsulation"
   ]
  },
  {
   "cell_type": "code",
   "execution_count": 2,
   "id": "a73094b9",
   "metadata": {},
   "outputs": [],
   "source": [
    "## class ---> blueprint of object\n",
    "##object ---> instance of object"
   ]
  },
  {
   "cell_type": "code",
   "execution_count": null,
   "id": "160e8389",
   "metadata": {},
   "outputs": [
    {
     "data": {
      "text/plain": [
       "30"
      ]
     },
     "execution_count": 15,
     "metadata": {},
     "output_type": "execute_result"
    }
   ],
   "source": [
    "class car:\n",
    "    ## class variable\n",
    "    num1=10\n",
    "    num2=20\n",
    "    name=\"abc\"\n",
    "    model=\"xyz\"\n",
    "\n",
    "#function vs method   ( jab bhi ek class ke ander function define kr dete h toh use method bolte ha)\n",
    "#self\n",
    "    def add (self):\n",
    "        return self.num1 + self.num2\n",
    "\n",
    "    def display(self):    #agar class k ander hi method use krne h iselye self use krte h jese num name use kr rhe h usme self kaam aarha hai\n",
    "         return self.name , self.model\n",
    "#obj ==\n",
    "obj=car()\n",
    "obj.display( )\n",
    "obj.add()\n",
    "#jab user se input chaiye toh constructor use krte hai jo ki init hai"
   ]
  },
  {
   "cell_type": "code",
   "execution_count": 17,
   "id": "2c6b7e0f",
   "metadata": {},
   "outputs": [
    {
     "data": {
      "text/plain": [
       "('lion', 10)"
      ]
     },
     "execution_count": 17,
     "metadata": {},
     "output_type": "execute_result"
    }
   ],
   "source": [
    "## init-->constructor----> initialize the variable\n",
    "class animal:\n",
    "    def __init__(self,name,age):\n",
    "        self.name = name\n",
    "        self.age = age\n",
    "    def display(self):\n",
    "        return self.name , self.age\n",
    "obj=animal(\"lion\",10)\n",
    "obj.display()\n",
    "        "
   ]
  },
  {
   "cell_type": "code",
   "execution_count": null,
   "id": "97e3b1f1",
   "metadata": {},
   "outputs": [],
   "source": []
  }
 ],
 "metadata": {
  "kernelspec": {
   "display_name": "Python 3",
   "language": "python",
   "name": "python3"
  },
  "language_info": {
   "codemirror_mode": {
    "name": "ipython",
    "version": 3
   },
   "file_extension": ".py",
   "mimetype": "text/x-python",
   "name": "python",
   "nbconvert_exporter": "python",
   "pygments_lexer": "ipython3",
   "version": "3.11.9"
  }
 },
 "nbformat": 4,
 "nbformat_minor": 5
}
