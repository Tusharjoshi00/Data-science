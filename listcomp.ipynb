{
 "cells": [
  {
   "cell_type": "code",
   "execution_count": 1,
   "id": "19f86e7f",
   "metadata": {},
   "outputs": [],
   "source": [
    "##list comprehension is a way to create a new list with less syntax\n",
    "#[expression/output for loop condition"
   ]
  },
  {
   "cell_type": "code",
   "execution_count": 2,
   "id": "d39db603",
   "metadata": {},
   "outputs": [
    {
     "name": "stdout",
     "output_type": "stream",
     "text": [
      "['RED', 'BLUE', 'GREEN', 'BLACK']\n"
     ]
    }
   ],
   "source": [
    "lst = [\"red\",\"blue\",\"green\",\"black\"]\n",
    "newlist = [i.upper() for i in lst]\n",
    "print(newlist)"
   ]
  },
  {
   "cell_type": "code",
   "execution_count": 3,
   "id": "7a344645",
   "metadata": {},
   "outputs": [
    {
     "name": "stdout",
     "output_type": "stream",
     "text": [
      "[2, 4]\n"
     ]
    }
   ],
   "source": [
    "lst = [1,2,3,4,5]\n",
    "\n",
    "newlist = [i for i in lst if i%2==0]\n",
    "print(newlist)"
   ]
  },
  {
   "cell_type": "code",
   "execution_count": null,
   "id": "ab7e117e",
   "metadata": {},
   "outputs": [],
   "source": [
    "generate with the first letter of the elements \n",
    "lst = [\"red\",\"blue\",\"green\",\"black\"]\n",
    "##flattening a list \n",
    "lst = [[1,2,3],[4,5,6],[7,8,9]] \n",
    "##output  = [1,2,3,4,5,6,7,8,9]"
   ]
  }
 ],
 "metadata": {
  "kernelspec": {
   "display_name": "Python 3",
   "language": "python",
   "name": "python3"
  },
  "language_info": {
   "codemirror_mode": {
    "name": "ipython",
    "version": 3
   },
   "file_extension": ".py",
   "mimetype": "text/x-python",
   "name": "python",
   "nbconvert_exporter": "python",
   "pygments_lexer": "ipython3",
   "version": "3.11.9"
  }
 },
 "nbformat": 4,
 "nbformat_minor": 5
}
