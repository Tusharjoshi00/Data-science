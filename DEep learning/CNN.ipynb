{
 "cells": [
  {
   "cell_type": "code",
   "execution_count": 9,
   "id": "ce2ccd9e",
   "metadata": {},
   "outputs": [
    {
     "data": {
      "text/plain": [
       "'\\nOpenCV :   - This is a computer vision library that provides tools for image processing, \\nvideo analysis, and machine learning. It is widely used in applications such as object detection, \\nface recognition, and image segmentation.\\n-> C++ with python \\n-> can handle complex and easy tasks\\n-> \\n\\nPillow   ;  -> basic tasks only\\n'"
      ]
     },
     "execution_count": 9,
     "metadata": {},
     "output_type": "execute_result"
    }
   ],
   "source": [
    "'''\n",
    "OpenCV :   - This is a computer vision library that provides tools for image processing, \n",
    "video analysis, and machine learning. It is widely used in applications such as object detection, \n",
    "face recognition, and image segmentation.\n",
    "-> C++ with python \n",
    "-> can handle complex and easy tasks\n",
    "-> \n",
    "\n",
    "Pillow   ;  -> basic tasks only\n",
    "'''"
   ]
  },
  {
   "cell_type": "code",
   "execution_count": 10,
   "id": "7f7eaef3",
   "metadata": {},
   "outputs": [],
   "source": [
    "import cv2\n",
    "import matplotlib.pyplot as plt"
   ]
  },
  {
   "cell_type": "markdown",
   "id": "56ad2135",
   "metadata": {},
   "source": []
  },
  {
   "cell_type": "code",
   "execution_count": 14,
   "id": "ffd4b841",
   "metadata": {},
   "outputs": [],
   "source": [
    "img = cv2.imread(r\"batman.jpg\")\n",
    "cv2.imshow(\"image\",img)\n",
    "cv2.waitKey(0)  # Wait for a key press to close the window\n",
    "cv2.destroyAllWindows()"
   ]
  },
  {
   "cell_type": "code",
   "execution_count": null,
   "id": "c080e0ea",
   "metadata": {
    "vscode": {
     "languageId": "markdown"
    }
   },
   "outputs": [],
   "source": [
    "## RGB to greyscale converstion"
   ]
  }
 ],
 "metadata": {
  "kernelspec": {
   "display_name": "Python 3",
   "language": "python",
   "name": "python3"
  },
  "language_info": {
   "codemirror_mode": {
    "name": "ipython",
    "version": 3
   },
   "file_extension": ".py",
   "mimetype": "text/x-python",
   "name": "python",
   "nbconvert_exporter": "python",
   "pygments_lexer": "ipython3",
   "version": "3.11.9"
  }
 },
 "nbformat": 4,
 "nbformat_minor": 5
}
