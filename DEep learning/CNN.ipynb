{
 "cells": [
  {
   "cell_type": "code",
   "execution_count": null,
   "id": "ce2ccd9e",
   "metadata": {},
   "outputs": [],
   "source": [
    "'''\n",
    "OpenCV :   - This is a computer vision library that provides tools for image processing, \n",
    "video analysis, and machine learning. It is widely used in applications such as object detection, \n",
    "face recognition, and image segmentation.\n",
    "-> C++ with python \n",
    "-> can handle complex and easy tasks\n",
    "-> \n",
    "\n",
    "Pillow   ;  -> basic tasks only\n",
    "'''"
   ]
  },
  {
   "cell_type": "code",
   "execution_count": 2,
   "id": "7f7eaef3",
   "metadata": {},
   "outputs": [],
   "source": [
    "import cv2\n",
    "import matplotlib.pyplot as plt"
   ]
  },
  {
   "cell_type": "markdown",
   "id": "56ad2135",
   "metadata": {},
   "source": []
  },
  {
   "cell_type": "code",
   "execution_count": 7,
   "id": "ffd4b841",
   "metadata": {},
   "outputs": [
    {
     "ename": "AttributeError",
     "evalue": "module 'cv2' has no attribute 'show'",
     "output_type": "error",
     "traceback": [
      "\u001b[31m---------------------------------------------------------------------------\u001b[39m",
      "\u001b[31mAttributeError\u001b[39m                            Traceback (most recent call last)",
      "\u001b[36mCell\u001b[39m\u001b[36m \u001b[39m\u001b[32mIn[7]\u001b[39m\u001b[32m, line 2\u001b[39m\n\u001b[32m      1\u001b[39m img = cv2.imread(\u001b[33mr\u001b[39m\u001b[33m\"\u001b[39m\u001b[33mbatman.jpeg\u001b[39m\u001b[33m\"\u001b[39m)\n\u001b[32m----> \u001b[39m\u001b[32m2\u001b[39m \u001b[43mcv2\u001b[49m\u001b[43m.\u001b[49m\u001b[43mshow\u001b[49m(\u001b[33m\"\u001b[39m\u001b[33mimage\u001b[39m\u001b[33m\"\u001b[39m,img)\n\u001b[32m      3\u001b[39m cv2.waitkey(\u001b[32m0\u001b[39m)\n\u001b[32m      4\u001b[39m cv2.destroyAllWindows()\n",
      "\u001b[31mAttributeError\u001b[39m: module 'cv2' has no attribute 'show'"
     ]
    }
   ],
   "source": [
    "img = cv2.imread(r\"batman.jpeg\")\n",
    "cv2.show(\"image\",img)\n",
    "cv2.waitkey(0)\n",
    "cv2.destroyAllWindows()"
   ]
  },
  {
   "cell_type": "code",
   "execution_count": null,
   "id": "c080e0ea",
   "metadata": {},
   "outputs": [],
   "source": []
  }
 ],
 "metadata": {
  "kernelspec": {
   "display_name": "Python 3",
   "language": "python",
   "name": "python3"
  },
  "language_info": {
   "codemirror_mode": {
    "name": "ipython",
    "version": 3
   },
   "file_extension": ".py",
   "mimetype": "text/x-python",
   "name": "python",
   "nbconvert_exporter": "python",
   "pygments_lexer": "ipython3",
   "version": "3.11.9"
  }
 },
 "nbformat": 4,
 "nbformat_minor": 5
}
