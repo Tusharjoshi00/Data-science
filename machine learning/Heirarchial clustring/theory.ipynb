{
 "cells": [
  {
   "cell_type": "code",
   "execution_count": null,
   "id": "379045b4",
   "metadata": {},
   "outputs": [],
   "source": [
    "# HC\n",
    "# the HC build a hierarchy (Tree) of clusters\n",
    "# tree -> Dendogram -> records merges or split\n",
    "# 2 HC -> 1. Agglomearative (Bottom -top)\n",
    "        #   2. Divisive (to to bottom)\n",
    " '''Aglomerative clustering :\n",
    "          - start each data -> as its own cluster & merges the closet cluster step by step until\n",
    "          all the points belong to a single\n",
    "        (basically apne ko sare points ko ikkhata krke aana hota hai)\n",
    "\n",
    "       step 1  ->  start with n cluster ( each data point is a cluster)\n",
    "       step 2  ->  compute the pair wise distance\n",
    "       step 3  ->  merge the closet two clusters based on a linkage method\n",
    "       step 4  ->  update the distance matrix\n",
    "       step 5  ->  repeat the step 2 to 4 untill your single cluster is forward   \n",
    "        '''"
   ]
  }
 ],
 "metadata": {
  "language_info": {
   "name": "python"
  }
 },
 "nbformat": 4,
 "nbformat_minor": 5
}
