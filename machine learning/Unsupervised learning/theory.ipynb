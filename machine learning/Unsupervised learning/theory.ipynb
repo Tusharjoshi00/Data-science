{
 "cells": [
  {
   "cell_type": "code",
   "execution_count": null,
   "id": "75e45fa4",
   "metadata": {},
   "outputs": [],
   "source": [
    "###       Kmeans\n",
    "##kmeans -> clustering -> group banana ->similarity\n",
    "##distance -> 1. eucelidian  2. cosinesimil  3. manhatten\n",
    "# Working of Kmeans :\n",
    "     # -> 1. select the number of k\n",
    "     # -> 2. select he k randomly\n",
    "     # -> 3. calculate distance b/w the centroid & Data point\n",
    "            #   Ec(P1,P2) = root((x2 - x1)² + (y2 -y1)²)\n",
    "     # -> 4. recalculate the centroid (x1 +x2/2) , (y1 +y2 /2)\n",
    "     # -> 5. row 3 step repeat all the works\n",
    "        #    k = no of centroids\n",
    "     # Inter cluster => ek cluster ke center se dusre  data point ke cluster ka distance\n",
    "     # Intra cluster => same data point ke cluster ke beech  ka distance  intra cluster distance\n",
    "     # optimal way to find k = no of centroid\n",
    "     ## Elbow method => help karega choose krne me k number\n",
    "            #  -> based of WCSS(within cluster sum of square) -> WCSS =(∑ i=1) d(C , Xi)²\n",
    "            ## Wcss -> evaluate how well the clustering  algp has grouped the data point\n",
    "            # WCSS = inertia\n",
    "# wcss --> intra distance ko minimize krna\n",
    "\n",
    "\n",
    "\n",
    "'''\n",
    "                                 Model Evaluation Technique\n",
    "   Dunn index ---> should be high [0 - infinite]\n",
    "  |-> word on inter and intra distacance\n",
    "   -> Inertia  tries to minimize the distance intracluster\n",
    "   -> intercluster increase ,  \n",
    "    -> inertia should be less and dunn will be increase or more\n",
    "       '''\n"
   ]
  }
 ],
 "metadata": {
  "language_info": {
   "name": "python"
  }
 },
 "nbformat": 4,
 "nbformat_minor": 5
}
